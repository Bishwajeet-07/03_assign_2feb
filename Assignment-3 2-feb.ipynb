{
 "cells": [
  {
   "cell_type": "code",
   "execution_count": null,
   "id": "4a067066-1f47-4f51-a499-6674ec5a81b6",
   "metadata": {},
   "outputs": [],
   "source": [
    "# 1 Explain with an example each when to use a for loop and a while loop.\n",
    "\n",
    "Use a for loop when you know the loop should execute n times.\n",
    "Use a while loop for reading a file into a variable.\n",
    "Use a while loop when asking for user input.\n",
    "Use a while loop when the increment value is nonstandard.\n"
   ]
  },
  {
   "cell_type": "code",
   "execution_count": 105,
   "id": "cacdc6f0-5ecd-4c4b-a6aa-2d2fb075c310",
   "metadata": {},
   "outputs": [
    {
     "name": "stdout",
     "output_type": "stream",
     "text": [
      "55\n"
     ]
    }
   ],
   "source": [
    "# Assignment -  3\n",
    "# 2. Write a python program to print the sum and product of the first 10 natural numbers using for and while loop.\n",
    "\n",
    "sum = 0\n",
    "for i in range(1,11):\n",
    "    sum += i\n",
    "print(sum)\n",
    "    "
   ]
  },
  {
   "cell_type": "code",
   "execution_count": 1,
   "id": "da7ffe8f-6a51-4f56-b347-fbb7b45717c6",
   "metadata": {},
   "outputs": [
    {
     "name": "stdin",
     "output_type": "stream",
     "text": [
      "Enter Unit for the bill -  310\n"
     ]
    },
    {
     "name": "stdout",
     "output_type": "stream",
     "text": [
      "2250.0\n"
     ]
    }
   ],
   "source": [
    "#3.Create a python program to compute the electricity bill for a household.\n",
    "# The per-unit charges in rupees are as follows: For the first 100 units, the user will be charged Rs. 4.5 per\n",
    "# unit, for the next 100 units, the user will be charged Rs. 6 per unit, and for the next 100 units, the user will\n",
    "#  be charged Rs. 10 per unit, After 300 units and above the user will be charged Rs. 20 per unit.\n",
    "\n",
    "unit = int(input(\"Enter Unit for the bill - \"))\n",
    "count = 0\n",
    "accept = unit\n",
    "for i in range(1,unit+1):\n",
    "    if i > 0 and i <=100 :\n",
    "        b1 = i * 4.5\n",
    "        # print(b1)\n",
    "unit -=  100\n",
    "if unit <=100 or unit > 100:\n",
    "    for i in range(1,unit+1):\n",
    "        count += 1\n",
    "        if count == 100:\n",
    "            for i in range(1,count+1):\n",
    "                b2 = i * 6\n",
    "            # print(b1+b2)\n",
    "unit -=  100\n",
    "count = 0\n",
    "if unit <=100 or unit > 100:\n",
    "    for i in range(1,unit+1):\n",
    "        count += 1\n",
    "        if count == 100:\n",
    "            for i in range(1,count+1):\n",
    "                b3 = i * 10\n",
    "            # print(b1+b2+b3)\n",
    "unit -= 100 \n",
    "if unit > 100 or unit <= 100 :\n",
    "    for i in range(1,unit+1):\n",
    "        b4 = i * 20\n",
    "    # print(b1+b2+b3+b4)\n",
    "\n",
    "\n",
    "if accept > 300 :\n",
    "    print(b1+b2+b3+b4)\n",
    "elif accept > 200 and accept <= 300 :\n",
    "    print(b1+b2+b3)\n",
    "elif accept > 100 and accept <=200 :\n",
    "    print(b1+b2)\n",
    "elif accept <= 100 :\n",
    "    print(b1)\n",
    "    \n",
    "    \n",
    "            \n",
    "    \n",
    "          "
   ]
  },
  {
   "cell_type": "code",
   "execution_count": 48,
   "id": "1ae251bd-ef99-4152-8e10-d0f5c2b78d06",
   "metadata": {},
   "outputs": [
    {
     "name": "stdout",
     "output_type": "stream",
     "text": [
      "59 number of cube divisible by 4 and 5 into 100 number\n"
     ]
    },
    {
     "data": {
      "text/plain": [
       "[8,\n",
       " 64,\n",
       " 125,\n",
       " 216,\n",
       " 512,\n",
       " 1000,\n",
       " 1728,\n",
       " 2744,\n",
       " 3375,\n",
       " 4096,\n",
       " 5832,\n",
       " 8000,\n",
       " 10648,\n",
       " 13824,\n",
       " 15625,\n",
       " 17576,\n",
       " 21952,\n",
       " 27000,\n",
       " 32768,\n",
       " 39304,\n",
       " 42875,\n",
       " 46656,\n",
       " 54872,\n",
       " 64000,\n",
       " 74088,\n",
       " 85184,\n",
       " 91125,\n",
       " 97336,\n",
       " 110592,\n",
       " 125000,\n",
       " 140608,\n",
       " 157464,\n",
       " 166375,\n",
       " 175616,\n",
       " 195112,\n",
       " 216000,\n",
       " 238328,\n",
       " 262144,\n",
       " 274625,\n",
       " 287496,\n",
       " 314432,\n",
       " 343000,\n",
       " 373248,\n",
       " 405224,\n",
       " 421875,\n",
       " 438976,\n",
       " 474552,\n",
       " 512000,\n",
       " 551368,\n",
       " 592704,\n",
       " 614125,\n",
       " 636056,\n",
       " 681472,\n",
       " 729000,\n",
       " 778688,\n",
       " 830584,\n",
       " 857375,\n",
       " 884736,\n",
       " 941192]"
      ]
     },
     "execution_count": 48,
     "metadata": {},
     "output_type": "execute_result"
    }
   ],
   "source": [
    "# Q4. Create a list of numbers from 1 to 100. Use for loop and while loop to calculate the cube of each\n",
    "# number and if the cube of that number is divisible by 4 or 5 then append that number in a list and print\n",
    "# that list.\n",
    "\n",
    "number = 100 \n",
    "list1 = []\n",
    "num = 0\n",
    "for count in range(1,number):\n",
    "    count = count**3\n",
    "    # print(count)\n",
    "    if count%4==0 or count%5 ==0:\n",
    "        list1.append(count)\n",
    "        num = num +1\n",
    "print(num ,\"number of cube divisible by 4 and 5 into 100 number\")\n",
    "list1\n",
    "\n",
    "        "
   ]
  },
  {
   "cell_type": "code",
   "execution_count": 46,
   "id": "897bb8c8-046e-472b-9e74-bdfef61cb2ba",
   "metadata": {},
   "outputs": [
    {
     "name": "stdout",
     "output_type": "stream",
     "text": [
      "The total vowel count is -  12\n"
     ]
    },
    {
     "data": {
      "text/plain": [
       "['i', 'a', 'o', 'e', 'o', 'e', 'a', 'a', 'a', 'i', 'e', 'i']"
      ]
     },
     "execution_count": 46,
     "metadata": {},
     "output_type": "execute_result"
    }
   ],
   "source": [
    "# Q5. Write a program to filter count vowels in the below-given string.\n",
    "# string = \"I want to become a data scientist\"\n",
    "\n",
    "name = \"I want to become a data scientist\"\n",
    "lenth = len(name)\n",
    "list2 = []\n",
    "count = 0\n",
    "name = name.lower()\n",
    "# print(name)\n",
    "for i in range(lenth):\n",
    "    if name[i] == 'a' or name[i] == 'e' or name[i] == 'i' or name[i] == 'o' or name[i] == 'o' or name[i] == 'u':\n",
    "        list2.append(name[i])\n",
    "        count += 1\n",
    "print(\"The total vowel count is - \" , count)\n",
    "list2\n",
    "\n"
   ]
  },
  {
   "cell_type": "code",
   "execution_count": null,
   "id": "b2d47883-6149-4aea-84be-01cc41f1a271",
   "metadata": {},
   "outputs": [],
   "source": []
  }
 ],
 "metadata": {
  "kernelspec": {
   "display_name": "Python 3 (ipykernel)",
   "language": "python",
   "name": "python3"
  },
  "language_info": {
   "codemirror_mode": {
    "name": "ipython",
    "version": 3
   },
   "file_extension": ".py",
   "mimetype": "text/x-python",
   "name": "python",
   "nbconvert_exporter": "python",
   "pygments_lexer": "ipython3",
   "version": "3.10.8"
  }
 },
 "nbformat": 4,
 "nbformat_minor": 5
}
